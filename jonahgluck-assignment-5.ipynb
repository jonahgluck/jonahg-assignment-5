{
 "cells": [
  {
   "cell_type": "code",
   "execution_count": 1,
   "id": "16763e6b",
   "metadata": {
    "execution": {
     "iopub.execute_input": "2024-10-19T00:12:34.274715Z",
     "iopub.status.busy": "2024-10-19T00:12:34.274177Z",
     "iopub.status.idle": "2024-10-19T00:16:19.204199Z",
     "shell.execute_reply": "2024-10-19T00:16:19.202799Z"
    },
    "papermill": {
     "duration": 224.9374,
     "end_time": "2024-10-19T00:16:19.206997",
     "exception": false,
     "start_time": "2024-10-19T00:12:34.269597",
     "status": "completed"
    },
    "tags": []
   },
   "outputs": [
    {
     "name": "stdout",
     "output_type": "stream",
     "text": [
      "Mean AUC score for k=3: 0.946858399201633\n",
      "Mean AUC score for k=5: 0.9514259714598758\n",
      "Mean AUC score for k=7: 0.9517133862694649\n",
      "Mean AUC score for k=9: 0.9503997013621059\n",
      "Mean AUC score for k=11: 0.9488785889373771\n",
      "Best k value: 7 with AUC: 0.9517133862694649\n",
      "Submission file saved as 'submission.csv'.\n"
     ]
    }
   ],
   "source": [
    "import pandas as pd\n",
    "import numpy as np\n",
    "from sklearn.model_selection import StratifiedKFold\n",
    "from sklearn.preprocessing import StandardScaler, OneHotEncoder\n",
    "from sklearn.compose import ColumnTransformer\n",
    "from sklearn.metrics import roc_auc_score\n",
    "from imblearn.over_sampling import SMOTE\n",
    "from numba import njit, prange\n",
    "\n",
    "train_data = pd.read_csv('/kaggle/input/506-data/train.csv')\n",
    "test_data = pd.read_csv('/kaggle/input/506-data/test.csv')\n",
    "\n",
    "features = ['CreditScore', 'Geography', 'Gender', 'Age', 'Tenure', \n",
    "            'Balance', 'NumOfProducts', 'HasCrCard', 'IsActiveMember', \n",
    "            'EstimatedSalary']\n",
    "\n",
    "X = train_data[features]\n",
    "y = train_data['Exited']\n",
    "\n",
    "num_features = ['CreditScore', 'Age', 'Tenure', 'Balance', \n",
    "                'NumOfProducts', 'HasCrCard', 'IsActiveMember', 'EstimatedSalary']\n",
    "cat_features = ['Geography', 'Gender']\n",
    "\n",
    "preprocessor = ColumnTransformer(\n",
    "    transformers=[\n",
    "        ('num', StandardScaler(), num_features),\n",
    "        ('cat', OneHotEncoder(), cat_features)\n",
    "    ])\n",
    "\n",
    "X_preprocessed = preprocessor.fit_transform(X)\n",
    "\n",
    "X_preprocessed = np.array(X_preprocessed)\n",
    "y = np.array(y)\n",
    "\n",
    "smote = SMOTE(random_state=42)\n",
    "X_resampled, y_resampled = smote.fit_resample(X_preprocessed, y)\n",
    "\n",
    "@njit(parallel=True)\n",
    "def compute_distances(X_train, X_test):\n",
    "    n_train, n_test = X_train.shape[0], X_test.shape[0]\n",
    "    distances = np.empty((n_test, n_train))\n",
    "    for i in prange(n_test):\n",
    "        for j in range(n_train):\n",
    "            distances[i, j] = np.sqrt(np.sum((X_test[i] - X_train[j]) ** 2)) \n",
    "    return distances\n",
    "\n",
    "@njit(parallel=True)\n",
    "def knn_predict_proba(X_train, y_train, X_test, k):\n",
    "    distances = compute_distances(X_train, X_test)\n",
    "    n_test = X_test.shape[0]\n",
    "    y_prob = np.empty(n_test, dtype=np.float64)\n",
    "\n",
    "    for i in prange(n_test):\n",
    "        neighbors = np.argsort(distances[i])[:k] \n",
    "        top_k_labels = y_train[neighbors]\n",
    "        \n",
    "        y_prob[i] = np.sum(top_k_labels) / k \n",
    "\n",
    "    return y_prob\n",
    "\n",
    "kf = StratifiedKFold(n_splits=5, shuffle=True, random_state=42)\n",
    "k_values = [3, 5, 7, 9, 11] \n",
    "\n",
    "best_k = 0\n",
    "best_auc = 0\n",
    "for k in k_values:\n",
    "    auc_scores = []\n",
    "    for train_index, val_index in kf.split(X_resampled, y_resampled):\n",
    "        X_train_fold, X_val_fold = X_resampled[train_index], X_resampled[val_index]\n",
    "        y_train_fold, y_val_fold = y_resampled[train_index], y_resampled[val_index]\n",
    "\n",
    "        y_val_prob_fold = knn_predict_proba(X_train_fold, y_train_fold, X_val_fold, k)\n",
    "\n",
    "        auc_score_fold = roc_auc_score(y_val_fold, y_val_prob_fold)\n",
    "        auc_scores.append(auc_score_fold)\n",
    "\n",
    "    mean_auc_score = np.mean(auc_scores)\n",
    "    print(f'Mean AUC score for k={k}: {mean_auc_score}')\n",
    "    \n",
    "    if mean_auc_score > best_auc:\n",
    "        best_auc = mean_auc_score\n",
    "        best_k = k\n",
    "\n",
    "print(f'Best k value: {best_k} with AUC: {best_auc}')\n",
    "\n",
    "X_test = preprocessor.transform(test_data[features])\n",
    "X_test = np.array(X_test)\n",
    "y_test_probabilities = knn_predict_proba(X_resampled, y_resampled, X_test, best_k)\n",
    "\n",
    "submission = pd.DataFrame({\n",
    "    'id': pd.read_csv('/kaggle/input/506-data/test.csv')['id'],\n",
    "    'Exited': y_test_probabilities \n",
    "})\n",
    "submission.to_csv('submission.csv', index=False)\n",
    "print(\"Submission file saved as 'submission.csv'.\")\n"
   ]
  },
  {
   "cell_type": "code",
   "execution_count": null,
   "id": "80db1627",
   "metadata": {
    "papermill": {
     "duration": 0.002424,
     "end_time": "2024-10-19T00:16:19.212446",
     "exception": false,
     "start_time": "2024-10-19T00:16:19.210022",
     "status": "completed"
    },
    "tags": []
   },
   "outputs": [],
   "source": []
  }
 ],
 "metadata": {
  "kaggle": {
   "accelerator": "none",
   "dataSources": [
    {
     "datasetId": 5883045,
     "sourceId": 9635558,
     "sourceType": "datasetVersion"
    }
   ],
   "dockerImageVersionId": 30786,
   "isGpuEnabled": false,
   "isInternetEnabled": true,
   "language": "python",
   "sourceType": "notebook"
  },
  "kernelspec": {
   "display_name": "Python 3",
   "language": "python",
   "name": "python3"
  },
  "language_info": {
   "codemirror_mode": {
    "name": "ipython",
    "version": 3
   },
   "file_extension": ".py",
   "mimetype": "text/x-python",
   "name": "python",
   "nbconvert_exporter": "python",
   "pygments_lexer": "ipython3",
   "version": "3.10.14"
  },
  "papermill": {
   "default_parameters": {},
   "duration": 230.301396,
   "end_time": "2024-10-19T00:16:20.339839",
   "environment_variables": {},
   "exception": null,
   "input_path": "__notebook__.ipynb",
   "output_path": "__notebook__.ipynb",
   "parameters": {},
   "start_time": "2024-10-19T00:12:30.038443",
   "version": "2.6.0"
  }
 },
 "nbformat": 4,
 "nbformat_minor": 5
}
